{
 "cells": [
  {
   "cell_type": "markdown",
   "metadata": {},
   "source": [
    "# Solución de sistemas con factorización LU\n",
    "<hr/>\n",
    "##### El sistema de ecuaciones $A \\vec{x} = \\vec{b}$ ahora se puede escribir en la forma $ \\left(L U \\right) \\vec{x} = \\vec{b}$, sin embargo podemos asociar los productos matriciales así:\n",
    "\\begin{equation}\n",
    "    L \\left( U \\vec{x}\\right) = \\vec{b}\n",
    "\\end{equation}\n",
    "##### Si definimos un nuevo vector de variables $\\vec{y} = U \\vec{x}$, entonces tenemos un sistema de la forma:\n",
    "\\begin{equation}\n",
    "    L \\vec{y} = \\vec{b} = \n",
    "    \\begin{bmatrix}\n",
    "        l_{11} & 0 & \\dots & 0\\\\\n",
    "        l_{21} & l_{22} & \\dots & 0 \\\\\n",
    "        \\vdots & \\vdots & \\ddots & \\vdots \\\\\n",
    "        l_{n1} & l_{n2} & \\dots & l_{nn} \n",
    "    \\end{bmatrix} \\begin{bmatrix}\n",
    "        y_1 \\\\\n",
    "        y_2 \\\\\n",
    "        \\vdots \\\\\n",
    "        y_n \n",
    "    \\end{bmatrix} = \\begin{bmatrix}\n",
    "        b_1 \\\\\n",
    "        b_2 \\\\\n",
    "        \\vdots \\\\\n",
    "        b_n\n",
    "    \\end{bmatrix}\n",
    "\\end{equation}\n",
    "\n",
    "##### La ventaja que tiene este ultimo sistema es que las variables se pueden despejar directamente, comenzando con la primera, $y_1$, y hasta la última, $y_n$. Si revisamos la ecuación equivalente a la primera fila del sistema, obtenemos:\n",
    "\\begin{equation}\n",
    "    l_{11} y_1 = b_1\n",
    "\\end{equation}\n",
    "##### de aquí es inmediato obtener el valor de $y_1$. Luego, mirando la segunda y tercera fila obtenemos:\n",
    "\\begin{equation}\n",
    "    l_{21}y_1 + l_{22}y_2 = b_2\n",
    "\\end{equation}\n",
    "\\begin{equation}\n",
    "    l_{31}y_1 + l_{32}y_2 + l_{33}y_3 = b_3\n",
    "\\end{equation}\n",
    "##### De lo cual vemos que podemos calcular $y_2$ si ya conocemos $y_1$, así mismo de la tercera fila podemos calcular $y_3$ si ya conocemos $y_1$ e $y_2$. En general, este proceso nos muestra que podemos ir calculando cada incógnita del sistema $y_i$ si ya conocemos todas las anteriores $y_1, \\dots, y_{i-1}$. Esto en términos de la matriz se evidencia en ir descendiendo fila a fila hasta llegar a la última incógnita $y_n$, es por esto que a este procedimiento se le llama **sustitución hacia adelante**. La fórmula general para hallar cualquier incógnita $y_i$ estará dada por:\n",
    "\\begin{equation}\n",
    "    y_i = \\frac{b_i - \\left(\\sum_{j=1}^{i-1}l_{ij}y_j\\right)}{l_{ii}}\n",
    "\\end{equation}\n",
    "\n",
    "##### Luego de obtener todas las incógnitas de $\\vec{y}$, podemos ver que de la definición de $\\vec{y}$ surge otro sistema de ecuaciones que ahora nos permitirá obtener las incógnitas originales $\\vec{x}$:\n",
    "\n",
    "\\begin{equation}\n",
    "    U \\vec{x} = \\vec{y} = \\begin{bmatrix}\n",
    "        u_{11} & u_{12} & \\dots & u_{1n}\\\\\n",
    "        0 & u_{22} & \\dots & u_{2n} \\\\\n",
    "        \\vdots & \\vdots & \\ddots & \\vdots \\\\\n",
    "        0 & 0 & \\dots & u_{nn} \n",
    "    \\end{bmatrix} \\begin{bmatrix}\n",
    "        x_1 \\\\\n",
    "        x_2 \\\\\n",
    "        \\vdots \\\\\n",
    "        x_n \n",
    "    \\end{bmatrix} = \\begin{bmatrix}\n",
    "        y_1 \\\\\n",
    "        y_2 \\\\\n",
    "        \\vdots \\\\\n",
    "        y_n\n",
    "    \\end{bmatrix}    \n",
    "\\end{equation}\n",
    "\n",
    "##### Aquí aplica un razonamiento similar al de la sustitución hacia adelante. La diferencia ahora es que comenzamos por la última incógnita $x_n$. Aquí vemos que la ecuación correspondiente a la última fila sería:\n",
    "\n",
    "\\begin{equation}\n",
    "    u_{nn} x_n = y_n\n",
    "\\end{equation}\n",
    "\n",
    "##### así mismo tomando las dos filas anteriores tendremos:\n",
    "\\begin{equation}\n",
    "u_{n-1,n}x_n + u_{n-1,n-1}x_{n-1} = y_{n-1}\n",
    "\\end{equation}\n",
    "\\begin{equation}\n",
    "u_{n-2,n}x_n+ u_{n-2,n-1}x_{n-1} + u_{n-2,n-2}x_{n-2} = y_{n-2}\n",
    "\\end{equation}\n",
    "\n",
    "##### y ahora es evidente que podemos calcular $x_{n-1}$ si ya conocemos $x_n$; así mismo, podemos calcular $x_{n-2}$ si ya conocemos $x_n$ y $x_{n-1}$. Entonces este proceso de sustituciones sucesivas desde la última incógnita terminaría en la primera incógnita $x_1$ a medida que vamos usando las filas hacia arriba. Entonces, a este último proceso se le denomina **Sustitucion hacia atras**. En este caso la fórmula general para hallar cualquier incógnita $x_i$ vendrá dada por:\n",
    "\n",
    "\\begin{equation}\n",
    "    x_i = \\frac{y_i - \\left(\\sum_{j=n}^{i+1} u_{ij}x_j \\right)}{u_{ii}}\n",
    "\\end{equation}\n",
    "\n",
    "##### En conclusion un sistema de ecuaciones $A\\vec{x}=\\vec{b}$ se puede resolver por medio de la factorización $A = LU$ de la siguiente manera: \n",
    "\n",
    "* 1) Se resuelve el sistema $L\\vec{y} = \\vec{b}$ usando sustitución hacia adelante.\n",
    "* 2) Se resuele el sistema $U\\vec{x} = \\vec{y}$ usando sustitución hacia atras.\n"
   ]
  },
  {
   "cell_type": "code",
   "execution_count": 14,
   "metadata": {},
   "outputs": [],
   "source": [
    "import numpy as np\n",
    "from lu import *\n",
    "A =np.array([[1.0,2.0,-1.0],[2.0,1.0,-2.0],[-3.0,1.0,1.0]])\n",
    "B = [1.0,-2.0,3.0]\n",
    "L, U = lu_fac(A)"
   ]
  },
  {
   "cell_type": "code",
   "execution_count": 15,
   "metadata": {},
   "outputs": [
    {
     "name": "stdout",
     "output_type": "stream",
     "text": [
      "[[ True  True  True]\n",
      " [ True  True  True]\n",
      " [ True  True  True]]\n"
     ]
    }
   ],
   "source": [
    "print(np.matmul(L,U)==A)"
   ]
  },
  {
   "cell_type": "code",
   "execution_count": 18,
   "metadata": {},
   "outputs": [
    {
     "name": "stdout",
     "output_type": "stream",
     "text": [
      "la solucion del sistema es: \n",
      "[0.         1.33333333 1.66666667]\n"
     ]
    }
   ],
   "source": [
    "# sustitucion hacia adelante\n",
    "size = A.shape[1]\n",
    "X = np.zeros(size)\n",
    "Y = np.zeros(size)\n",
    "Y[0] = B[0]/L[0,0]\n",
    "for i in range(1,size):\n",
    "    sum = 0\n",
    "    for j in range(i):\n",
    "        sum += L[i,j]*Y[j]\n",
    "    Y[i] = (B[i]-sum) / L[i,i]\n",
    "\n",
    "\n",
    "# sustitucion hacia atras\n",
    "X[size-1] = Y[size-1]/U[size-1,size-1]\n",
    "for i in range(size-1,0,-1):\n",
    "    sum = 0\n",
    "    for j in range(size-1,i,-1):\n",
    "        sum += U[i,j]*X[j]\n",
    "    X[i] = (Y[i] - sum) / U[i,i]\n",
    "print('la solucion del sistema es: ')    \n",
    "print(X)"
   ]
  },
  {
   "cell_type": "code",
   "execution_count": 21,
   "metadata": {},
   "outputs": [
    {
     "name": "stdout",
     "output_type": "stream",
     "text": [
      "[ 1. -2.  3.]\n"
     ]
    }
   ],
   "source": [
    "# verificamos que la solucion funciona: AX = B\n",
    "print(np.matmul(A,X))"
   ]
  },
  {
   "cell_type": "code",
   "execution_count": 23,
   "metadata": {},
   "outputs": [],
   "source": [
    "# empaquetamos ahora todo dentro de una funcion que efectue todo el proceso:\n",
    "from lu import *\n",
    "def lu_sol(A,B):\n",
    "    L, U = lu_fac(A)\n",
    "    size = A.shape[1]\n",
    "    X = np.zeros(size)\n",
    "    Y = np.zeros(size)\n",
    "    Y[0] = B[0]/L[0,0]\n",
    "    # sustitucion hacia adelante\n",
    "    for i in range(1,size):\n",
    "        sum = 0\n",
    "        for j in range(i):\n",
    "            sum += L[i,j]*Y[j]\n",
    "        Y[i] = (B[i]-sum) / L[i,i]\n",
    "    X[size-1] = Y[size-1]/U[size-1,size-1]\n",
    "    # sustitucion hacia atras\n",
    "    for i in range(size-1,0,-1):\n",
    "        sum = 0\n",
    "        for j in range(size-1,i,-1):\n",
    "            sum += U[i,j]*X[j]\n",
    "        X[i] = (Y[i] - sum) / U[i,i]\n",
    "    return X"
   ]
  },
  {
   "cell_type": "code",
   "execution_count": 24,
   "metadata": {},
   "outputs": [
    {
     "name": "stdout",
     "output_type": "stream",
     "text": [
      "[0.         1.33333333 1.66666667]\n"
     ]
    }
   ],
   "source": [
    "X = lu_sol(A,B)\n",
    "print(X)"
   ]
  }
 ],
 "metadata": {
  "kernelspec": {
   "display_name": "Python 3",
   "language": "python",
   "name": "python3"
  },
  "language_info": {
   "codemirror_mode": {
    "name": "ipython",
    "version": 3
   },
   "file_extension": ".py",
   "mimetype": "text/x-python",
   "name": "python",
   "nbconvert_exporter": "python",
   "pygments_lexer": "ipython3",
   "version": "3.6.4"
  }
 },
 "nbformat": 4,
 "nbformat_minor": 2
}
