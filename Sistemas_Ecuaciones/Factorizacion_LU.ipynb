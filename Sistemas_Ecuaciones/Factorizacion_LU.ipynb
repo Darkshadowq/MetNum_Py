{
 "cells": [
  {
   "cell_type": "markdown",
   "metadata": {},
   "source": [
    "# Factorizacion LU\n",
    "<hr/>\n",
    "### Definiciones previas:\n",
    "##### **Matriz triangular inferior:** Una matriz $L=\\left(l_{ij} \\right)_{n \\times n}$ se dice que es triangular inferior si: \n",
    "\\begin{equation}\n",
    "l_{ij} = 0 \\text{  } \\forall \\text{  } i > j \n",
    "\\end{equation}\n",
    "es decir si todos sus elementos arriba de la diagonal son nulos.\n",
    "\n",
    "##### **Matriz triangular superior:** Una matriz $U=\\left(u_{ij} \\right)_{n \\times n}$ se dice que es triangular superior si: \n",
    "\\begin{equation}\n",
    "u_{ij} = 0 \\text{  } \\forall \\text{  } i < j \n",
    "\\end{equation}\n",
    "es decir si todos sus elementos debajo de la diagonal son nulos. \n",
    "\n",
    "A la luz de las definiciones previas tenemos ahora que dada una matriz $A=\\left(a_{ij} \\right)_{n \\times n}$, esta tendrá una factorizacion LU si existen matrices $L$ y $U$ tales que $A = LU$. \n",
    "\n",
    "**A continuacion un video donde revisamos los conceptos y realizamos un ejemplo de factorizacion LU para una matriz $3 \\times 3$.**"
   ]
  },
  {
   "cell_type": "code",
   "execution_count": 3,
   "metadata": {},
   "outputs": [
    {
     "data": {
      "text/html": [
       "<center><iframe width=\"560\" height=\"315\" src=\"https://www.youtube.com/embed/2rODrEfJY6U\" frameborder=\"0\" allow=\"autoplay; encrypted-media\" allowfullscreen></iframe></center>"
      ],
      "text/plain": [
       "<IPython.core.display.HTML object>"
      ]
     },
     "execution_count": 3,
     "metadata": {},
     "output_type": "execute_result"
    }
   ],
   "source": [
    "from IPython.display import HTML\n",
    "HTML('<center><iframe width=\"560\" height=\"315\" src=\"https://www.youtube.com/embed/2rODrEfJY6U\" frameborder=\"0\" allow=\"autoplay; encrypted-media\" allowfullscreen></iframe></center>')"
   ]
  },
  {
   "cell_type": "code",
   "execution_count": 7,
   "metadata": {},
   "outputs": [
    {
     "name": "stdout",
     "output_type": "stream",
     "text": [
      "L = \n",
      "[[ 1.          0.          0.        ]\n",
      " [ 2.          1.          0.        ]\n",
      " [-3.         -2.33333333  1.        ]]\n",
      "U = \n",
      "[[ 1  2 -1]\n",
      " [ 0 -3  0]\n",
      " [ 0  0 -2]]\n"
     ]
    }
   ],
   "source": [
    "# ejemplo de matriz 3x3\n",
    "import numpy as np \n",
    "L = [[1,0,0],[2,1,0],[-3,-7/3,1]]\n",
    "U = [[1,2,-1],[0,-3,0],[0,0,-2]]\n",
    "print('L = ')\n",
    "print(np.array(L))\n",
    "print('U = ')\n",
    "print(np.array(U))"
   ]
  },
  {
   "cell_type": "code",
   "execution_count": 8,
   "metadata": {},
   "outputs": [
    {
     "name": "stdout",
     "output_type": "stream",
     "text": [
      "[[ True  True  True]\n",
      " [ True  True  True]\n",
      " [ True  True  True]]\n"
     ]
    }
   ],
   "source": [
    "# Revisamos que la factorizacion es correcta:\n",
    "A = [[1,2,-1],[2,1,-2],[-3,1,1]]\n",
    "print(A==np.matmul(L,U))"
   ]
  },
  {
   "cell_type": "markdown",
   "metadata": {},
   "source": [
    "## Construccion del algoritmo general\n",
    "<hr/>\n",
    "##### Los siguientes videos permitirán entender con detalle como construir el algoritmo para matrices de tamaño arbitrario. Separamos el proceso en dos etapas:\n",
    "* **Comprension del algoritmo general:**"
   ]
  },
  {
   "cell_type": "code",
   "execution_count": 13,
   "metadata": {},
   "outputs": [
    {
     "data": {
      "text/html": [
       "<center><iframe width=\"560\" height=\"315\" src=\"https://www.youtube.com/embed/WMrwMKPhrMc\" frameborder=\"0\" allow=\"autoplay; encrypted-media\" allowfullscreen></iframe></center>"
      ],
      "text/plain": [
       "<IPython.core.display.HTML object>"
      ]
     },
     "execution_count": 13,
     "metadata": {},
     "output_type": "execute_result"
    }
   ],
   "source": [
    "HTML('<center><iframe width=\"560\" height=\"315\" src=\"https://www.youtube.com/embed/WMrwMKPhrMc\" frameborder=\"0\" allow=\"autoplay; encrypted-media\" allowfullscreen></iframe></center>')"
   ]
  },
  {
   "cell_type": "markdown",
   "metadata": {},
   "source": [
    "* **Transición a lenguaje python:**"
   ]
  },
  {
   "cell_type": "code",
   "execution_count": 14,
   "metadata": {},
   "outputs": [
    {
     "data": {
      "text/html": [
       "<center><iframe width=\"560\" height=\"315\" src=\"https://www.youtube.com/embed/D9sIdYir_-E\" frameborder=\"0\" allow=\"autoplay; encrypted-media\" allowfullscreen></iframe></center>"
      ],
      "text/plain": [
       "<IPython.core.display.HTML object>"
      ]
     },
     "execution_count": 14,
     "metadata": {},
     "output_type": "execute_result"
    }
   ],
   "source": [
    "HTML('<center><iframe width=\"560\" height=\"315\" src=\"https://www.youtube.com/embed/D9sIdYir_-E\" frameborder=\"0\" allow=\"autoplay; encrypted-media\" allowfullscreen></iframe></center>')"
   ]
  },
  {
   "cell_type": "code",
   "execution_count": 15,
   "metadata": {},
   "outputs": [],
   "source": [
    "# funcion que efectua factorizacion LU para \n",
    "# cualquier matriz cuadrada A de tamano nxn.\n",
    "import numpy as np\n",
    "\n",
    "def lu_fac(matriz):\n",
    "    A = np.array(matriz)\n",
    "    epsilon = np.finfo(np.float).eps\n",
    "    dims = A.shape\n",
    "    L = np.zeros(dims)\n",
    "    U = np.zeros(dims)\n",
    "    for j in range(dims[0]):\n",
    "        if abs(A[j,j]) < epsilon:\n",
    "            print('ERROR: pivote nulo')\n",
    "            return None\n",
    "        L[j,j] = 1.0\n",
    "        for i in range(j+1,dims[0]):\n",
    "            L[i,j] = A[i,j]/A[j,j]\n",
    "            for k in range(j+1,dims[0]):\n",
    "                A[i,k] = A[i,k] - L[i,j]*A[j,k]\n",
    "        for k in range(j,dims[0]):\n",
    "            U[j,k] = A[j,k]\n",
    "    \n",
    "    return L, U"
   ]
  },
  {
   "cell_type": "code",
   "execution_count": 18,
   "metadata": {},
   "outputs": [
    {
     "name": "stdout",
     "output_type": "stream",
     "text": [
      "L = \n",
      "[[1. 0.]\n",
      " [3. 1.]]\n",
      "U = \n",
      "[[ 1.  1.]\n",
      " [ 0. -7.]]\n"
     ]
    }
   ],
   "source": [
    "# Ejemplo 2x2\n",
    "A = [[1.0,1.0],[3.0,-4.0]]\n",
    "L, U = lu_fac(A)\n",
    "print('L = ')\n",
    "print(L)\n",
    "print('U = ')\n",
    "print(U)"
   ]
  },
  {
   "cell_type": "code",
   "execution_count": 19,
   "metadata": {},
   "outputs": [
    {
     "name": "stdout",
     "output_type": "stream",
     "text": [
      "L = \n",
      "[[ 1.          0.          0.        ]\n",
      " [ 2.          1.          0.        ]\n",
      " [-3.         -2.33333333  1.        ]]\n",
      "U = \n",
      "[[ 1.  2. -1.]\n",
      " [ 0. -3.  0.]\n",
      " [ 0.  0. -2.]]\n"
     ]
    }
   ],
   "source": [
    "# Ejemplo 3x3\n",
    "A =np.array([[1.0,2.0,-1.0],[2.0,1.0,-2.0],[-3.0,1.0,1.0]])\n",
    "L, U = lu_fac(A)\n",
    "print('L = ')\n",
    "print(L)\n",
    "print('U = ')\n",
    "print(U)"
   ]
  },
  {
   "cell_type": "code",
   "execution_count": 19,
   "metadata": {},
   "outputs": [
    {
     "data": {
      "text/plain": [
       "array([[ 1.,  2., -1.],\n",
       "       [ 2.,  1., -2.],\n",
       "       [-3.,  1.,  1.]])"
      ]
     },
     "execution_count": 19,
     "metadata": {},
     "output_type": "execute_result"
    }
   ],
   "source": [
    "# Verificamos que se cumpla la condicion A = LU\n",
    "np.dot(L,U)"
   ]
  },
  {
   "cell_type": "code",
   "execution_count": 20,
   "metadata": {},
   "outputs": [
    {
     "data": {
      "text/plain": [
       "array([[ True,  True,  True],\n",
       "       [ True,  True,  True],\n",
       "       [ True, False,  True]], dtype=bool)"
      ]
     },
     "execution_count": 20,
     "metadata": {},
     "output_type": "execute_result"
    }
   ],
   "source": [
    "np.dot(L,U) == A"
   ]
  }
 ],
 "metadata": {
  "kernelspec": {
   "display_name": "Python 3",
   "language": "python",
   "name": "python3"
  },
  "language_info": {
   "codemirror_mode": {
    "name": "ipython",
    "version": 3
   },
   "file_extension": ".py",
   "mimetype": "text/x-python",
   "name": "python",
   "nbconvert_exporter": "python",
   "pygments_lexer": "ipython3",
   "version": "3.6.4"
  }
 },
 "nbformat": 4,
 "nbformat_minor": 2
}
