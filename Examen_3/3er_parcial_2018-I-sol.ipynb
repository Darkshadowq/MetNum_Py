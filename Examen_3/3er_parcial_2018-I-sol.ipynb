{
 "cells": [
  {
   "cell_type": "markdown",
   "metadata": {},
   "source": [
    "<hr/>\n",
    "* **Escriba aqui su nombre (MAYÚSCULAS)**: "
   ]
  },
  {
   "cell_type": "markdown",
   "metadata": {},
   "source": [
    "# (Solución)\n",
    "# TERCER EXAMEN PARCIAL (PARTE-PRÁCTICA)\n",
    "#### Realice los dos ejercicios a continuación:\n",
    "<hr/>\n",
    "### **Primer Punto (Factorizacion LU)**\n",
    "#### Considere el siguiente sistema de ecuaciones de la forma $A \\vec{x} = \\vec{b}$:\n",
    "\n",
    "\\begin{equation}\n",
    "    \\begin{bmatrix}\n",
    "         2 & 1 & & & & &  \\\\\n",
    "         1 & 2 & 1 & & & & \\\\\n",
    "         & 1 & 2 & 1 & & & \\\\\n",
    "         & & \\ddots & \\ddots & \\ddots & & \\\\\n",
    "         & & & 1 & 2 & 1 & \\\\\n",
    "         & & & & 1 & 2 & 1  \\\\\n",
    "          & & & & & 1 & 2\n",
    "    \\end{bmatrix} \\begin{bmatrix}\n",
    "        x_0 \\\\\n",
    "        x_1 \\\\\n",
    "        \\vdots \\\\\n",
    "        \\vdots \\\\\n",
    "        x_{n-1} \\\\\n",
    "        x_n \n",
    "    \\end{bmatrix} = \\begin{bmatrix}\n",
    "        a_0 \\\\\n",
    "        a_1 \\\\\n",
    "        \\vdots \\\\\n",
    "        \\vdots \\\\\n",
    "        a_{n-1}\\\\\n",
    "        a_n\n",
    "    \\end{bmatrix}\n",
    "\\end{equation}\n",
    "\n",
    "#### para las incógnitas $x_0,x_1, \\dots, x_n$, donde $a_i = i$ y los elementos que no se muestran de la matriz de coeficientes son cero. Recuerde que aquí $A$ es la matriz de coeficientes, $\\vec{x}$ es el vector de incógnitas y $\\vec{b}$ es el vector de constantes.\n",
    "<hr/>"
   ]
  },
  {
   "cell_type": "markdown",
   "metadata": {},
   "source": [
    "* Escriba una funcion con la estructura que se muestra a continuacion y que permita construir la matriz de coeficientes $A$ del sistema de ecuaciones mostrado previamente** (considere que la funcion debe ser lo mas general posible de manera que pueda construir una matriz de cualquier tamaño $n$ arbitrario, ademas note que debe utilizar la libreria Numpy)**:"
   ]
  },
  {
   "cell_type": "code",
   "execution_count": 99,
   "metadata": {},
   "outputs": [],
   "source": [
    "import numpy as np\n",
    "def matriz(n):\n",
    "    # aqui creamos una matriz vacia\n",
    "    A = np.zeros((n,n),'float64') \n",
    "    # luego llenamos los espacios\n",
    "    A[0,0] = 2\n",
    "    A[0,1] = 1\n",
    "    for i in range(1,n-1):\n",
    "        A[i,i] = 2\n",
    "        A[i,i-1] = 1\n",
    "        A[i,i+1] = 1\n",
    "    A[n-1,n-1] = 2\n",
    "    A[n-1,n-2] = 1\n",
    "    return A"
   ]
  },
  {
   "cell_type": "markdown",
   "metadata": {},
   "source": [
    "* Tome $n = 5$ y construya una matriz $A$ de ese tamaño, luego debe crear un vector de constantes $\\vec{b}$ como se muestra en el enunciado de este ejercicio **(es decir, considerando los valores $a_i  = i$)**:"
   ]
  },
  {
   "cell_type": "code",
   "execution_count": 44,
   "metadata": {},
   "outputs": [
    {
     "name": "stdout",
     "output_type": "stream",
     "text": [
      "[[2. 1. 0. 0. 0.]\n",
      " [1. 2. 1. 0. 0.]\n",
      " [0. 1. 2. 1. 0.]\n",
      " [0. 0. 1. 2. 1.]\n",
      " [0. 0. 0. 1. 2.]]\n",
      "[0. 1. 2. 3. 4.]\n"
     ]
    }
   ],
   "source": [
    "A = matriz(5)\n",
    "B = np.zeros(5)\n",
    "for i in range(5):\n",
    "    B[i] = i\n",
    "print(A)\n",
    "print(B)"
   ]
  },
  {
   "cell_type": "markdown",
   "metadata": {},
   "source": [
    "* Copie en la siguiente celda, el código necesario para factorizar de forma general una matriz $A$ en la forma $LU$ **(considere una funcion  que haga este proceso)**:"
   ]
  },
  {
   "cell_type": "code",
   "execution_count": 45,
   "metadata": {},
   "outputs": [],
   "source": [
    "def lu_fac(matriz):\n",
    "    A = np.array(matriz)\n",
    "    epsilon = np.finfo(np.float).eps\n",
    "    dims = A.shape\n",
    "    L = np.zeros(dims)\n",
    "    U = np.zeros(dims)\n",
    "    for j in range(dims[0]):\n",
    "        if abs(A[j,j]) < epsilon:\n",
    "            print('ERROR: pivote nulo')\n",
    "            return None\n",
    "        L[j,j] = 1.0\n",
    "        for i in range(j+1,dims[0]):\n",
    "            L[i,j] = A[i,j]/A[j,j]\n",
    "            for k in range(j+1,dims[0]):\n",
    "                A[i,k] = A[i,k] - L[i,j]*A[j,k]\n",
    "        for k in range(j,dims[0]):\n",
    "            U[j,k] = A[j,k]\n",
    "    \n",
    "    return L, U"
   ]
  },
  {
   "cell_type": "markdown",
   "metadata": {},
   "source": [
    "* Realice la factorizacion $LU$ de la matriz $A$ creada en el paso anterior y verifique que la multiplicacion de matrices satisface la relacion $LU = A$."
   ]
  },
  {
   "cell_type": "code",
   "execution_count": 46,
   "metadata": {},
   "outputs": [
    {
     "data": {
      "text/plain": [
       "array([[2., 1., 0., 0., 0.],\n",
       "       [1., 2., 1., 0., 0.],\n",
       "       [0., 1., 2., 1., 0.],\n",
       "       [0., 0., 1., 2., 1.],\n",
       "       [0., 0., 0., 1., 2.]])"
      ]
     },
     "execution_count": 46,
     "metadata": {},
     "output_type": "execute_result"
    }
   ],
   "source": [
    "L, U = lu_fac(A)\n",
    "np.dot(L,U)"
   ]
  },
  {
   "cell_type": "markdown",
   "metadata": {},
   "source": [
    "* Importe la funcion que sea necesaria para resolver el sistema de ecuaciones usando la sustitucion hacia adelante y hacia atras **(revise los apuntes de clase para encontrar la funcion adecuada y obtener el vector de incógnitas $\\vec{x}$ al final)**:"
   ]
  },
  {
   "cell_type": "code",
   "execution_count": 47,
   "metadata": {},
   "outputs": [],
   "source": [
    "def lu_sol(A,B):\n",
    "    L, U = lu_fac(A)\n",
    "    size = A.shape[1]\n",
    "    X = np.zeros(size)\n",
    "    Y = np.zeros(size)\n",
    "    Y[0] = B[0]/L[0,0]\n",
    "    # sustitucion hacia adelante\n",
    "    for i in range(1,size):\n",
    "        sum = 0\n",
    "        for j in range(i):\n",
    "            sum += L[i,j]*Y[j]\n",
    "        Y[i] = (B[i]-sum) / L[i,i]\n",
    "    X[size-1] = Y[size-1]/U[size-1,size-1]\n",
    "    # sustitucion hacia atras\n",
    "    for i in range(size-1,0,-1):\n",
    "        sum = 0\n",
    "        for j in range(size-1,i,-1):\n",
    "            sum += U[i,j]*X[j]\n",
    "        X[i] = (Y[i] - sum) / U[i,i]\n",
    "    return X"
   ]
  },
  {
   "cell_type": "markdown",
   "metadata": {},
   "source": [
    "* Luego aplique la funcion anterior para resolver el sistema con las matrices de tamaño $n=5$ creadas previamente **(verifique mediante multiplicacion de matrices que la solucion es correcta y que por lo tanto cumple que $A \\vec{x} = \\vec{b}$)**:"
   ]
  },
  {
   "cell_type": "code",
   "execution_count": 48,
   "metadata": {},
   "outputs": [
    {
     "name": "stdout",
     "output_type": "stream",
     "text": [
      "[0. 1. 2. 3. 4.]\n"
     ]
    },
    {
     "data": {
      "text/plain": [
       "array([0., 1., 2., 3., 4.])"
      ]
     },
     "execution_count": 48,
     "metadata": {},
     "output_type": "execute_result"
    }
   ],
   "source": [
    "x = lu_sol(A,B)\n",
    "print(B)\n",
    "np.dot(A,x)"
   ]
  },
  {
   "cell_type": "markdown",
   "metadata": {},
   "source": [
    "<hr/>\n",
    "### **Segundo Punto (Ecuaciones diferenciales ordinarias)**\n",
    "#### Considere el siguiente PVI:\n",
    "\\begin{equation}\n",
    "    \\left\\{\n",
    "    \\begin{array}{ll}\n",
    "        y' = 2xy -x   \\\\\n",
    "        y(0) = 0.4\n",
    "    \\end{array}\n",
    "    \\right.\n",
    "\\end{equation}"
   ]
  },
  {
   "cell_type": "markdown",
   "metadata": {},
   "source": [
    "** Primero, importamos las librerias a usar:"
   ]
  },
  {
   "cell_type": "code",
   "execution_count": 100,
   "metadata": {},
   "outputs": [],
   "source": [
    "import numpy as np\n",
    "import math as m\n",
    "import matplotlib.pyplot as plt\n",
    "%matplotlib inline"
   ]
  },
  {
   "cell_type": "markdown",
   "metadata": {},
   "source": [
    "* Copie en la siguiente celda, el código necesario para resolver un PVI de primer orden cualquier por el método de Euler y el método de Runge-Kutta de cuarto orden **(revise los apuntes de clase para implementar funciones separadas para los dos algoritmos)**:"
   ]
  },
  {
   "cell_type": "code",
   "execution_count": 21,
   "metadata": {},
   "outputs": [],
   "source": [
    "def euler(f,x0,y0,xf,nd):\n",
    "    x    = np.zeros(nd)\n",
    "    y    = np.zeros(nd)\n",
    "    dx   = float(xf-x0)/nd\n",
    "    x[0] = x0\n",
    "    y[0] = y0\n",
    "    for i in range(nd-1):\n",
    "        x[i+1] = x[i] + dx\n",
    "        y[i+1] = y[i] + dx*f(x[i],y[i])\n",
    "    return x, y\n",
    "\n",
    "def rk4(f,x0,y0,xf,nd):\n",
    "    x    = np.zeros(nd)\n",
    "    y    = np.zeros(nd)\n",
    "    dx   = float(xf-x0)/nd\n",
    "    x[0] = x0\n",
    "    y[0] = y0\n",
    "    for i in range(nd-1):\n",
    "        x[i+1] = x[i] + dx\n",
    "        s1 = f(x[i],y[i])\n",
    "        s2 = f(x[i]+0.5*dx,y[i]+0.5*dx*s1)\n",
    "        s3 = f(x[i]+0.5*dx,y[i]+0.5*dx*s2)\n",
    "        s4 = f(x[i]+dx,y[i]+dx*s3)\n",
    "        y[i+1] = y[i] + (dx/6.0)*(s1+2*s2+2*s3+s4)\n",
    "    return x, y"
   ]
  },
  {
   "cell_type": "markdown",
   "metadata": {},
   "source": [
    "#### Sabiendo que la solucion exacta al problema de valor inicial planteado esta dada por:\n",
    "\n",
    "\\begin{equation}\n",
    "    y(t) = -\\frac{1}{10}e^{x^2} + \\frac{1}{2}\n",
    "\\end{equation}\n",
    "\n",
    "* Primero construya una funcion que le permita identificar el $f(x,y)$ de la ecuacion diferencial.\n",
    "* Segundo, construya una funcion \"ex_sol(x)\" que le permita calcular la solucion exacta.\n",
    "\n",
    "#### realice los dos pasos dentro de la misma celda, a continuacion:"
   ]
  },
  {
   "cell_type": "code",
   "execution_count": 98,
   "metadata": {},
   "outputs": [],
   "source": [
    "import math as m\n",
    "def f(x,y):\n",
    "    return 2*x*y - x\n",
    "\n",
    "def ex_sol(x):\n",
    "    return (-1.0/10)*m.exp(pow(x,2))-0.5"
   ]
  },
  {
   "cell_type": "markdown",
   "metadata": {},
   "source": [
    "* Obtenga las soluciones por Euler y RK4 al PVI planteado usando $20$ iteraciones y calculando la solucion hasta un $x_f = 3.0$. Luego grafique ambas soluciones numéricas junto con la solucion exacta y compare **(A partir de la gráfica usted deberá identificar cual método es mas eficiente en este caso)**. "
   ]
  },
  {
   "cell_type": "code",
   "execution_count": 94,
   "metadata": {},
   "outputs": [
    {
     "data": {
      "text/plain": [
       "<matplotlib.legend.Legend at 0x11917fa50>"
      ]
     },
     "execution_count": 94,
     "metadata": {},
     "output_type": "execute_result"
    },
    {
     "data": {
      "image/png": "[encoded data removed]",
      "text/plain": [
       "<Figure size 432x288 with 1 Axes>"
      ]
     },
     "metadata": {},
     "output_type": "display_data"
    }
   ],
   "source": [
    "xe, ye = euler(f,0,0.4,3.0,20) \n",
    "xr, yr = rk4(f,0,0.4,3.0,20) \n",
    "vsol = np.vectorize(ex_sol)\n",
    "yex = vsol(xe)\n",
    "plt.plot(xe,ye,'r*',label = 'euler')\n",
    "plt.plot(xr,yr,'b*',label = 'rk4')\n",
    "plt.plot(xe,yex,'g')\n",
    "plt.grid(True)\n",
    "plt.legend()"
   ]
  }
 ],
 "metadata": {
  "kernelspec": {
   "display_name": "Python 2",
   "language": "python",
   "name": "python2"
  },
  "language_info": {
   "codemirror_mode": {
    "name": "ipython",
    "version": 2
   },
   "file_extension": ".py",
   "mimetype": "text/x-python",
   "name": "python",
   "nbconvert_exporter": "python",
   "pygments_lexer": "ipython2",
   "version": "2.7.14"
  }
 },
 "nbformat": 4,
 "nbformat_minor": 2
}
