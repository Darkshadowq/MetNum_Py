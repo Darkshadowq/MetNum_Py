{
 "cells": [
  {
   "cell_type": "markdown",
   "metadata": {},
   "source": [
    "# Introducción a los métodos de regresión\n",
    "<hr />"
   ]
  },
  {
   "cell_type": "code",
   "execution_count": 128,
   "metadata": {},
   "outputs": [],
   "source": [
    "## funcion de minimos cuadrados con modelo lineal\n",
    "def totales(datos):\n",
    "    [X,Y,XX,YY,XY] = [0.0,0.0,0.0,0.0,0.0]\n",
    "    for p in datos:\n",
    "        X += p[0]\n",
    "        Y += p[1]\n",
    "        XX += pow(p[0],2.0)\n",
    "        YY += pow(p[1],2.0)\n",
    "        XY += p[0]*p[1]\n",
    "    return [X,Y,XX,YY,XY]\n",
    "    \n",
    "def mincua_linear(datos,**args):\n",
    "    [X,Y,XX,YY,XY] = totales(datos)\n",
    "    m = len(datos)\n",
    "    \n",
    "    def linear(x):\n",
    "        a0 = (Y*XX-X*XY)/(m*XX-X*X)\n",
    "        a1 = (m*XY-X*Y)/(m*XX-X*X)\n",
    "        return a0+a1*x \n",
    "    return linear\n",
    "\n",
    "## funcion que calcula el coeficiente de correlación\n",
    "def R2(datos,linear):\n",
    "    import math as mt\n",
    "    [X,Y,XX,YY,XY] = totales(datos)\n",
    "    m = len(datos)\n",
    "    return (m*XY-X*Y)/(mt.sqrt((m*XX-X*X)*(m*YY-Y*Y)))"
   ]
  },
  {
   "cell_type": "code",
   "execution_count": 166,
   "metadata": {},
   "outputs": [
    {
     "data": {
      "image/png": "[encoded data removed]",
      "text/plain": [
       "<Figure size 432x288 with 1 Axes>"
      ]
     },
     "metadata": {},
     "output_type": "display_data"
    }
   ],
   "source": [
    "import matplotlib.pyplot as plt\n",
    "import sympy as sym\n",
    "import numpy as np\n",
    "%matplotlib inline\n",
    "\n",
    "# esta funcion ejecuta el gráfico de regresion para un cierto valor\n",
    "# de la amplitud de ruido en los datos.\n",
    "# -> esta forma se escoge para posterior uso dentro del widget interactivo.\n",
    "def plot_reg(amp=0.0):\n",
    "    datos = [(1.0, 1.3), (2.0, 3.5), (3.0, 4.2), (4.0, 5.0), (5.0, 7.0),(6.0, 8.8), (7.0, 10.1), (8.0, 12.5), (9.0, 13.0)]\n",
    "    m = len(datos)\n",
    "    noise = np.random.normal(0,amp,m)\n",
    "    datos_noise = []\n",
    "    \n",
    "    for i,p in enumerate(datos):\n",
    "        datos_noise.append((p[0],p[1]+noise[i]))\n",
    "    model = mincua_linear(datos_noise)\n",
    "    \n",
    "    def model_const(model_str,digits):\n",
    "        concat = []\n",
    "        for p in model_str.split('*'):\n",
    "            if '-' in p:\n",
    "                concat += p.split('-')\n",
    "            else:\n",
    "                concat += p.split('+')\n",
    "        return [concat[0][:digits+2],concat[2][:digits+2]]\n",
    "    \n",
    "    z = sym.symbols('z')\n",
    "    model_st = str(sym.sympify(model(z),z))\n",
    "    cts = model_const(model_st,4)\n",
    "    \n",
    "    r2 = round(R2(datos_noise,model),5)\n",
    "    x = np.arange(0.0,10.0,0.1)\n",
    "    v_model = np.vectorize(model)\n",
    "    y = v_model(x)\n",
    "    plt.plot(x,y)\n",
    "    plt.text(0, 13, r'$R^2$ = '+str(r2), fontsize=10)\n",
    "    plt.text(0, 12,'y = '+cts[0]+'x + '+cts[1], fontsize=10)\n",
    "    for p in datos_noise:\n",
    "        plt.scatter(p[0],p[1],c='r')\n",
    "    plt.grid(True)\n",
    "    plt.xlim([-2, 12])\n",
    "    plt.ylim([-1, 16])\n",
    "    return None\n",
    "\n",
    "plot_reg(0.0)"
   ]
  },
  {
   "cell_type": "markdown",
   "metadata": {},
   "source": [
    "# Simulaciones dinamicas con ipywidgets\n",
    "<hr />\n",
    "##### Para poder usar ipywidgets con un servidor montado desde tu pc, debes seguir las siguientes instrucciones de instalación: \n",
    "https://ipywidgets.readthedocs.io/en/latest/user_install.html"
   ]
  },
  {
   "cell_type": "code",
   "execution_count": 168,
   "metadata": {},
   "outputs": [
    {
     "data": {
      "application/vnd.jupyter.widget-view+json": {
       "model_id": "e524ccb72816434b9a6f924e4007d328",
       "version_major": 2,
       "version_minor": 0
      },
      "text/plain": [
       "interactive(children=(FloatSlider(value=0.0, description='amp', max=5.0), Output()), _dom_classes=('widget-int…"
      ]
     },
     "metadata": {},
     "output_type": "display_data"
    }
   ],
   "source": [
    "from ipywidgets import interactive, fixed\n",
    "interactive(plot_reg,amp=(0.0,5.0))"
   ]
  },
  {
   "cell_type": "code",
   "execution_count": null,
   "metadata": {},
   "outputs": [],
   "source": []
  }
 ],
 "metadata": {
  "kernelspec": {
   "display_name": "Python 3",
   "language": "python",
   "name": "python3"
  },
  "language_info": {
   "codemirror_mode": {
    "name": "ipython",
    "version": 3
   },
   "file_extension": ".py",
   "mimetype": "text/x-python",
   "name": "python",
   "nbconvert_exporter": "python",
   "pygments_lexer": "ipython3",
   "version": "3.6.4"
  }
 },
 "nbformat": 4,
 "nbformat_minor": 2
}
