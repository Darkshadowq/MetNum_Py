{
 "cells": [
  {
   "cell_type": "markdown",
   "metadata": {},
   "source": [
    "# Diferencias divididas de orden 0\n",
    "##### Dada una lista de datos: \n",
    "\\begin{equation}\n",
    "data = \\left((x_0,y_0),(x_1,y_1),\\ldots,(x_n,y_n)\\right),\n",
    "\\end{equation}\n",
    "##### definimos un objeto que se asocia a cada $x_i$ de la lista, lo denotaremos por $f[x_i]$ y recibirá el nombre de diferencia de orden cero evaluada en $x_i$. Así, definimos las diferencias de orden cero para la lista $data$ como:\n",
    "\\begin{equation}\n",
    "f[x_i] = y_i\n",
    "\\end{equation}\n",
    "# Diferencias divididas de orden 1\n",
    "##### De aqui en adelante definimos lo que se llamará diferencias divididas de orden superior en forma recursiva. Es decir, usando diferencias divididas de orden 0 podemos definir una diferencia dividida de orden 1 y lo haremos basados en el concepto de pendiente entre dos puntos. Recordemos que una pendiente entre dos puntos $(x_i,y_i)$ y $(x_j,y_j)$ se puede calcular como:\n",
    "\\begin{equation}\n",
    "m = \\frac{\\Delta y}{\\Delta x} = \\frac{y_j - y_i}{x_j - x_i} \n",
    "\\end{equation}\n",
    "##### de aqui vemos que el numerador de la pendiente es la diferencia entre dos diferencias de orden cero evaluadas en los puntos $x_i$ y $x_j$. Entonces podemos escribir:\n",
    "\\begin{equation}\n",
    "m = \\frac{y_j - y_i}{x_j - x_i} = \\frac{f[x_j] - f[x_i]}{x_j - x_i}\n",
    "\\end{equation}\n",
    "##### Y definimos una diferencia de orden 1 como la pendiente calculada entre dos puntos $(x_i,y_i)$ y $(x_j,y_j)$, escribimos $m = f[x_i,x_j]$ y por lo tanto:\n",
    "\\begin{equation}\n",
    "f[x_i,x_j] =\\frac{f[x_j] - f[x_i]}{x_j - x_i},\n",
    "\\end{equation}\n",
    "# Diferencias divididas de orden k\n",
    "##### La definicion anterior nace del concepto de pendiente pero nos permitirá extender su uso para definir diferencias de orden aun mayor. Pensemos en que una diferencia de orden 1 se calcula tomando la resta de dos diferencias de orden 0 (esto implica que una diferencia de orden 1 requiere tomar 2 puntos), asi mismo vamos a definir una diferencia de orden 2 tomando la resta de dos diferencias de orden 1 así:\n",
    "\\begin{equation}\n",
    "f[x_i,x_j,x_k] =\\frac{f[x_j,x_k] - f[x_i,x_j]}{x_k - x_i},\n",
    "\\end{equation}\n",
    "##### aqui vemos que una diferencia de orden 2 requiere tomar tres puntos $(x_i,y_i)$, $(x_j,y_j)$ y $(x_k,y_k)$, y que las diferencias de orden 1 correspondientes toman los primeros dos y los ultimos dos datos de la lista de 3 elementos que se esta considerando. Por lo tanto, ya podemos definir una diferencia de orden k (la cual requiere tomar $k+1$ elementos $\\left((x_0,y_0),(x_1,y_1),\\ldots,(x_k,y_k)\\right)$) de la siguiente manera:\n",
    "\\begin{equation}\n",
    "f[x_0,x_1,\\ldots,x_k] =\\frac{f[x_1,\\ldots,x_k] - f[x_0,\\ldots,x_{k-1}]}{x_k - x_0},\n",
    "\\end{equation}\n",
    "# Tabla de diferencias divididas\n",
    "##### La definicion de diferencias divididas construida en la seccion anterior muestra que el calculo de las mismas para diferentes ordenes es recursivo, en general para calcular una diferencia de orden $n$, asociada a una lista de $n+1$ datos, será necesario calcular todas las diferencias posibles de ordenes menores y esto se puede representar dentro de una matriz triangular como se muestra a continuación: \n",
    "<img src=\"NewtonTable.png\" alt=\"Alt text that describes the graphic\" title=\"Title text\" />"
   ]
  },
  {
   "cell_type": "markdown",
   "metadata": {},
   "source": [
    "# Polinomio de Interpolacion de Newton\n",
    "##### Dada una lista que contiene $(n+1)$ datos en la forma:\n",
    "\\begin{equation}\n",
    "data = \\left((x_0,y_0),(x_1,y_1),\\ldots,(x_n,y_n)\\right)\n",
    "\\end{equation}\n",
    "##### El método de interpolacion de Newton permite construir un polinomio $P(x)$ que interpola todos los datos de la lista $data$, y que por lo tanto satisface la condicion:\n",
    "\\begin{equation}\n",
    "P(x_i) = y_i \\quad \\forall \\quad i = 0,1,...,n\n",
    "\\end{equation}\n",
    "##### El polinomio tiene la forma: \n",
    "\\begin{equation}\n",
    "P(x)=f[x_0]+\\sum_{k=1}^{n}f[x_0,x_1,\\ldots,x_k]L_{k-1}(x),\n",
    "\\end{equation}\n",
    "##### aqui la funcion $L_k(x)$ esta definida por:\n",
    "\\begin{equation}\n",
    "L_k(x) = \\prod_{i=0}^k \\left(x - x_i \\right)\n",
    "\\end{equation}\n",
    "##### los puntos $x_i$ pertenecen a la lista de datos $data$, ademas el polinomio esta escrito en terminos de diferencias divididas las cuales definimos en la seccion anterior. Nótese que para calcular este polinomio completamente es necesario antes calcular la tabla de diferencias divididas. "
   ]
  },
  {
   "cell_type": "code",
   "execution_count": 1,
   "metadata": {},
   "outputs": [],
   "source": [
    "# Aqui construimos nuestra funcion de interpolacion de Newton\n",
    "\n",
    "def NewtonPol(dat):\n",
    "    # la funcion NewtonPol crea un objeto que evalua un polinomio en un cierto valor de x\n",
    "    n = len(dat)-1\n",
    "    F = [[0 for x in dat] for x in dat]  # crear tabla nula\n",
    "\n",
    "    for i, p in enumerate(dat):  # condiciones iniciales\n",
    "        F[i][0] = p[1]\n",
    "\n",
    "    for i in range(1, n+1):  # tabla de diferencias divididas\n",
    "        for j in range(1, i+1):\n",
    "            F[i][j] = (F[i][j-1]-F[i-1][j-1])/(dat[i][0]-dat[i-j][0])\n",
    "\n",
    "    def L(k, x):  # polinomio $L_k(x)=\\prod\\limits_{i \\leq k}(x-x_i)$\n",
    "        out = 1.0\n",
    "        for i, p in enumerate(dat):\n",
    "            if i <= k:\n",
    "                out *= (x-p[0])\n",
    "        return out\n",
    "\n",
    "    def P(x):  # $P(x)=f[x_0]+\\sum_{k=1}^{n}f[x_0,x_1,\\ldots,x_k]L_{k-1}(x)$\n",
    "        newt = 0.0\n",
    "        for i in range(1, n+1):\n",
    "            newt += F[i][i]*L(i-1, x)\n",
    "        return newt + F[0][0]\n",
    "\n",
    "    return F, P"
   ]
  },
  {
   "cell_type": "code",
   "execution_count": 2,
   "metadata": {
    "collapsed": true
   },
   "outputs": [],
   "source": [
    "# tomamos como ejemplo la siguiente lista de datos y calculamos su tabla de diferencias \n",
    "# divididas y el polinomio de Newton correspondiente:\n",
    "datos = [[0.1,3.2],[0.2,4.5],[0.3,5.1],[0.4,6.7],[0.5,7.1],[0.6,7.9]]\n",
    "Table, Pn = NewtonPol(datos)"
   ]
  },
  {
   "cell_type": "code",
   "execution_count": 4,
   "metadata": {},
   "outputs": [
    {
     "name": "stdout",
     "output_type": "stream",
     "text": [
      "     0     1     2           3            4            5\n",
      "0  3.2   0.0   0.0    0.000000     0.000000     0.000000\n",
      "1  4.5  13.0   0.0    0.000000     0.000000     0.000000\n",
      "2  5.1   6.0 -35.0    0.000000     0.000000     0.000000\n",
      "3  6.7  16.0  50.0  283.333333     0.000000     0.000000\n",
      "4  7.1   4.0 -60.0 -366.666667 -1625.000000     0.000000\n",
      "5  7.9   8.0  20.0  266.666667  1583.333333  6416.666667\n"
     ]
    }
   ],
   "source": [
    "# Aqui podemos ver la estructura de la tabla de diferencias divididas\n",
    "# estructurandola dentro de un DataFrame usando la libreria Pandas\n",
    "import pandas as pd\n",
    "df = pd.DataFrame(Table)\n",
    "print(df)"
   ]
  },
  {
   "cell_type": "code",
   "execution_count": 5,
   "metadata": {},
   "outputs": [
    {
     "data": {
      "text/plain": [
       "6.991015624999998"
      ]
     },
     "execution_count": 5,
     "metadata": {},
     "output_type": "execute_result"
    }
   ],
   "source": [
    "# luego evaluamos el polinomio en un valor particular de x\n",
    "Pn(0.55)"
   ]
  },
  {
   "cell_type": "code",
   "execution_count": 15,
   "metadata": {},
   "outputs": [
    {
     "data": {
      "image/png": "[encoded data removed]",
      "text/plain": [
       "<matplotlib.figure.Figure at 0x10d27b710>"
      ]
     },
     "metadata": {},
     "output_type": "display_data"
    }
   ],
   "source": [
    "# Vamos a graficar el polinomio resultante sobre un cierto intervalo [0.0,0.5] \n",
    "# y comparamos con los datos originales.\n",
    "import numpy as np\n",
    "import matplotlib.pyplot as plt\n",
    "\n",
    "x = np.arange(0.0,0.7,0.01)\n",
    "y = np.zeros(np.size(x))\n",
    "for i in range(np.size(x)):\n",
    "    y[i]=Pn(x[i])\n",
    "    \n",
    "plt.plot(x,y,label='interpolator')\n",
    "for p in datos: \n",
    "    plt.scatter(p[0],p[1],c = 'k')\n",
    "plt.legend()\n",
    "plt.show()"
   ]
  },
  {
   "cell_type": "code",
   "execution_count": null,
   "metadata": {
    "collapsed": true
   },
   "outputs": [],
   "source": []
  }
 ],
 "metadata": {
  "kernelspec": {
   "display_name": "Python 3",
   "language": "python",
   "name": "python3"
  },
  "language_info": {
   "codemirror_mode": {
    "name": "ipython",
    "version": 3
   },
   "file_extension": ".py",
   "mimetype": "text/x-python",
   "name": "python",
   "nbconvert_exporter": "python",
   "pygments_lexer": "ipython3",
   "version": "3.6.3"
  }
 },
 "nbformat": 4,
 "nbformat_minor": 2
}
