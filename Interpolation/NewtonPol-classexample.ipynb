{
 "cells": [
  {
   "cell_type": "code",
   "execution_count": 1,
   "metadata": {
    "collapsed": true
   },
   "outputs": [],
   "source": [
    "# construimos nuestra funcion de interpolacion de Newton\n",
    "# la funcion NewtonPol crea un objeto que evalua un polinomio\n",
    "# en un cierto valor de x\n",
    "def NewtonPol(dat):\n",
    "    n = len(dat)-1\n",
    "    F = [[0 for x in dat] for x in dat]  # crear tabla nula\n",
    "\n",
    "    for i, p in enumerate(dat):  # condiciones iniciales\n",
    "        F[i][0] = p[1]\n",
    "\n",
    "    for i in range(1, n+1):  # tabla de diferencias divididas\n",
    "        for j in range(1, i+1):\n",
    "            F[i][j] = (F[i][j-1]-F[i-1][j-1])/(dat[i][0]-dat[i-j][0])\n",
    "\n",
    "    def L(k, x):  # polinomio $L_k(x)=\\prod\\limits_{i \\leq k}(x-x_i)$\n",
    "        out = 1.0\n",
    "        for i, p in enumerate(dat):\n",
    "            if i <= k:\n",
    "                out *= (x-p[0])\n",
    "        return out\n",
    "\n",
    "    def P(x):  # $P(x)=f[x_0]+\\sum_{k=1}^{n}f[x_0,x_1,\\ldots,x_k]L_{k-1}(x)$\n",
    "        newt = 0.0\n",
    "        for i in range(1, n+1):\n",
    "            newt += F[i][i]*L(i-1, x)\n",
    "        return newt + F[0][0]\n",
    "\n",
    "    return F, P"
   ]
  },
  {
   "cell_type": "code",
   "execution_count": 2,
   "metadata": {
    "collapsed": true
   },
   "outputs": [],
   "source": [
    "# tomamos como ejemplo la misma lista de datos \n",
    "# usada para el polinomio de Lagrange\n",
    "datos = [[0.1,3.2],[0.2,4.5],[0.3,5.1],[0.4,6.7],[0.5,7.1],[0.6,7.9]]\n",
    "Table, Pn = NewtonPol(datos)"
   ]
  },
  {
   "cell_type": "code",
   "execution_count": 19,
   "metadata": {},
   "outputs": [
    {
     "name": "stdout",
     "output_type": "stream",
     "text": [
      "[3.2, 0, 0, 0, 0, 0]\n",
      "[4.5, 13.0, 0, 0, 0, 0]\n",
      "[5.1, 6.0, -35.0, 0, 0, 0]\n",
      "[6.7, 16.0, 50.0, 283.3, 0, 0]\n",
      "[7.1, 4.0, -60.0, -366.7, -1625.0, 0]\n",
      "[7.9, 8.0, 20.0, 266.7, 1583.3, 6416.7]\n"
     ]
    }
   ],
   "source": [
    "# Aqui podemos ver la estructura de la tabla de diferencias divididas\n",
    "import numpy as np\n",
    "xsize = np.shape(Table)[0]\n",
    "ysize = np.shape(Table)[1]\n",
    "for i in range(xsize):\n",
    "    print([round(Table[i][j],1) for j in range(ysize)])"
   ]
  },
  {
   "cell_type": "code",
   "execution_count": 20,
   "metadata": {},
   "outputs": [
    {
     "data": {
      "text/plain": [
       "6.991015624999998"
      ]
     },
     "execution_count": 20,
     "metadata": {},
     "output_type": "execute_result"
    }
   ],
   "source": [
    "# luego evaluamos el polinomio en un valor particular de x\n",
    "Pn(0.55)"
   ]
  },
  {
   "cell_type": "code",
   "execution_count": 21,
   "metadata": {},
   "outputs": [
    {
     "data": {
      "image/png": "[encoded data removed]",
      "text/plain": [
       "<matplotlib.figure.Figure at 0x7fcb4403d4a8>"
      ]
     },
     "metadata": {},
     "output_type": "display_data"
    }
   ],
   "source": [
    "# Vamos a graficar el polinomio resultante\n",
    "# sobre un cierto intervalo [0.1,0.5].\n",
    "\n",
    "import numpy as np\n",
    "x = np.arange(0.1,0.6,0.1)\n",
    "y = np.zeros(np.size(x))\n",
    "for i in range(np.size(x)):\n",
    "    y[i]=Pn(x[i])\n",
    "    \n",
    "import matplotlib.pyplot as plt\n",
    "plt.plot(x,y)\n",
    "plt.show()"
   ]
  },
  {
   "cell_type": "code",
   "execution_count": null,
   "metadata": {
    "collapsed": true
   },
   "outputs": [],
   "source": []
  }
 ],
 "metadata": {
  "kernelspec": {
   "display_name": "Python 3",
   "language": "python",
   "name": "python3"
  },
  "language_info": {
   "codemirror_mode": {
    "name": "ipython",
    "version": 3
   },
   "file_extension": ".py",
   "mimetype": "text/x-python",
   "name": "python",
   "nbconvert_exporter": "python",
   "pygments_lexer": "ipython3",
   "version": "3.6.1"
  }
 },
 "nbformat": 4,
 "nbformat_minor": 2
}
