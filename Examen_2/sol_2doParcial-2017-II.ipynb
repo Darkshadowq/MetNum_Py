{
 "cells": [
  {
   "cell_type": "markdown",
   "metadata": {},
   "source": [
    "# Retroalimentacion Segundo Parcial (2017-II)\n",
    "<hr/>"
   ]
  },
  {
   "cell_type": "markdown",
   "metadata": {},
   "source": [
    "### Primer Punto\n",
    "##### \tSea $P(x)$ el polinomio de Lagrange que interpola los nodos $[(x_0,y_0),(x_1,y_1)]$ y $Q(x)$ el polinomio de Lagrange que interpola los nodos $[(x_2,y_2),(x_3,y_3)]$. Construir un interpolador basado en $P(x)$ y $Q(x)$ que interpole todos los nodos $[(x_0,y_0 ),(x_1,y_1 ),(x_2,y_2 ),(x_3,y_3 )]$ asumiendo que $x_i\\neq x_j$ para todo $i \\neq j$. Para ello siga los siguientes pasos:\n",
    "* Deberá crear un script que se llame **PQpol.py** el cual llamará como biblioteca externa al script **lagrange.py** (El cual ya viene incluido en la carpeta de códigos que contiene a este notebook). Recuerde usar el comando:\n",
    "\n",
    "```\n",
    "    import <biblioteca> as <abreviación>\n",
    "```\n",
    "\n",
    "* Dentro de **PQpol.py** defina los datos a interpolar como dos listas de datos, donde:\n",
    "\n",
    "\\begin{equation}\n",
    "datos1 = [(x_0,y_0),(x_1,y_1)]=[(-2,-1.5),(-1,-0.5)]\n",
    "\\end{equation}\n",
    "\\begin{equation}\n",
    "datos2 = [(x_2,y_2),(x_3,y_3)]=[(+1,+2.4),(+2,+2.0)]\n",
    "\\end{equation}\n",
    "\n",
    "* Construya una función con nombre **H()**, donde los argumentos serán las dos listas de datos y cuya salida sea una función que pueda evaluarse para cualquier $x$, entonces:\n",
    "\n",
    "```\n",
    "    def H(datos1,datos2):\n",
    "        <procesos internos de la función>\n",
    "        return <polinomio a evaluar para cualquier x>\n",
    "```\n",
    "\n",
    "* Cuando ejecute el script **PQpol.py**, verifique que la salida del polinomio resultante en la función **H( )** sea tal que interpola correctamente todos los puntos y por lo tanto que $H(x_i )= y_i$ para $i= 0,1,2,3$."
   ]
  },
  {
   "cell_type": "code",
   "execution_count": 13,
   "metadata": {},
   "outputs": [
    {
     "name": "stdout",
     "output_type": "stream",
     "text": [
      "H(-2) =  -1.5\n",
      "H(-1) =  -0.5\n",
      "H(1) =  2.3999999999999995\n",
      "H(2) =  2.0\n"
     ]
    },
    {
     "data": {
      "image/png": "[encoded data removed]",
      "text/plain": [
       "<Figure size 432x288 with 1 Axes>"
      ]
     },
     "metadata": {},
     "output_type": "display_data"
    }
   ],
   "source": [
    "# Solucion que debería estar contenida en el script PQpol.py\n",
    "import numpy as np\n",
    "import matplotlib.pyplot as plt\n",
    "import lagrange as lg\n",
    "datos1 = [[-2,-1.5],[-1,-0.5]]\n",
    "datos2 = [[1,2.4],[2,2]]\n",
    "\n",
    "def H(datos1,datos2):\n",
    "    P = lg.LagrangePol(datos1)\n",
    "    Q = lg.LagrangePol(datos2)\n",
    "    x0 = datos1[0][0]\n",
    "    x1 = datos1[1][0]\n",
    "    x2 = datos2[0][0]\n",
    "    x3 = datos2[1][0]\n",
    "    alpha = 1.0/((x0-x1)*(x0-x2)*(x0-x3))\n",
    "    beta  = 1.0/((x1-x0)*(x1-x2)*(x1-x3))\n",
    "    gamma = 1.0/((x2-x0)*(x2-x1)*(x2-x3))\n",
    "    delta = 1.0/((x3-x0)*(x3-x1)*(x3-x2))\n",
    "    def pq(x):\n",
    "        f = P(x)*(x-x2)*(x-x3)*(alpha*(x-x1)+\\\n",
    "            beta*(x-x0))+\\\n",
    "            Q(x)*(x-x0)*(x-x1)*(gamma*(x-x3)+\\\n",
    "            delta*(x-x2));\n",
    "        return f\n",
    "    return pq\n",
    "\n",
    "pol = H(datos1,datos2)\n",
    "\n",
    "print('H(-2) = ', pol(-2.0))\n",
    "print('H(-1) = ', pol(-1.0))\n",
    "print('H(1) = ', pol(1.0))\n",
    "print('H(2) = ', pol(2.0))\n",
    "\n",
    "xx = np.linspace(-2,2,100)\n",
    "yy = pol(xx)\n",
    "\n",
    "for p in datos1:\n",
    "    plt.scatter(p[0],p[1],c='k')\n",
    "for p in datos2:\n",
    "    plt.scatter(p[0],p[1],c='k')\n",
    "plt.plot(xx,yy,'--r')\n",
    "plt.grid(True)\n",
    "plt.show()"
   ]
  },
  {
   "cell_type": "markdown",
   "metadata": {},
   "source": [
    "### Segundo Punto\n",
    "##### Construya un script llamado *P2.py* que realice las siguientes tareas:\n",
    "\n",
    "* Definir la lista de datos: \n",
    "\n",
    "\\begin{equation}\n",
    "[(-\\pi/4,\\cos⁡(-\\pi/4)),(0,\\cos⁡(0)),(\\pi/6,\\cos⁡(π/6)),(\\pi/4,\\cos⁡(\\pi/4))]\n",
    "\\end{equation}\n",
    "\n",
    "* Utilizar la función definida en **difdiv.py** para construir el interpolador de Newton y la tabla de diferencias correspondiente.\n",
    "\n",
    "* Mostrar la tabla de diferencias divididas y un gráfico del polinomio interpolador comparándolo con el de la función $\\cos⁡(x)$ en el intervalo $[-\\pi/4,\\pi/4]$."
   ]
  },
  {
   "cell_type": "code",
   "execution_count": 32,
   "metadata": {},
   "outputs": [
    {
     "name": "stdout",
     "output_type": "stream",
     "text": [
      "[[ 0.70710678  0.          0.          0.        ]\n",
      " [ 1.          0.37292323  0.          0.        ]\n",
      " [ 0.8660254  -0.25587263 -0.48036465  0.        ]\n",
      " [ 0.70710678 -0.60702442 -0.44710035  0.02117671]]\n"
     ]
    },
    {
     "data": {
      "image/png": "[encoded data removed]",
      "text/plain": [
       "<Figure size 432x288 with 1 Axes>"
      ]
     },
     "metadata": {},
     "output_type": "display_data"
    }
   ],
   "source": [
    "# Solucion que debería estar contenida en el script P2.py\n",
    "import difdiv as dd\n",
    "import math as m\n",
    "\n",
    "datos = [[-m.pi/4,m.cos(-m.pi/4)],[0,m.cos(0)],[m.pi/6,m.cos(m.pi/6)],[m.pi/4,m.cos(m.pi/4)]] \n",
    "table, P = dd.NewtonPol(datos)\n",
    "\n",
    "print(np.array(table))\n",
    "\n",
    "xx = np.linspace(-m.pi/4,m.pi/4,100)\n",
    "vf = np.vectorize(m.cos)\n",
    "yy = vf(xx)\n",
    "yy2 = P(xx)\n",
    "for p in datos:\n",
    "    plt.scatter(p[0],p[1],c='k')\n",
    "plt.plot(xx,yy,'--r',label=r'$\\cos(x)$')\n",
    "plt.plot(xx,yy2,'b',label =r'$P_N(x)$')\n",
    "plt.legend()\n",
    "plt.grid(True)\n",
    "plt.show()"
   ]
  },
  {
   "cell_type": "code",
   "execution_count": null,
   "metadata": {},
   "outputs": [],
   "source": []
  }
 ],
 "metadata": {
  "kernelspec": {
   "display_name": "Python 3",
   "language": "python",
   "name": "python3"
  },
  "language_info": {
   "codemirror_mode": {
    "name": "ipython",
    "version": 3
   },
   "file_extension": ".py",
   "mimetype": "text/x-python",
   "name": "python",
   "nbconvert_exporter": "python",
   "pygments_lexer": "ipython3",
   "version": "3.6.4"
  }
 },
 "nbformat": 4,
 "nbformat_minor": 2
}
