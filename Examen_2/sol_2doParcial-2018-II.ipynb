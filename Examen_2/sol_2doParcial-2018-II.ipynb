{
 "cells": [
  {
   "cell_type": "markdown",
   "metadata": {},
   "source": [
    "# Retroalimentacion Segundo Parcial (2018-II)\n",
    "<hr/>"
   ]
  },
  {
   "cell_type": "markdown",
   "metadata": {},
   "source": [
    "### Primer  Punto\n",
    "**Determine el polinomio de interpolacion de la funcion $f(x) =x^4 - 1$ en los nodos ${x_0 = 0, x_1=1, x_2=2, x_3=-1}$. Haga esto usando el método de interpolacion de Lagrange**\n",
    "\n",
    "* (**Nota**: Para esto determine la imagen de cada $x_i$ usando la función dada $f(x)$)"
   ]
  },
  {
   "cell_type": "code",
   "execution_count": 10,
   "metadata": {},
   "outputs": [
    {
     "name": "stdout",
     "output_type": "stream",
     "text": [
      "data to be used:  [[-1, 0.0], [0, -1.0], [1, 0.0], [2, 15.0]]\n"
     ]
    }
   ],
   "source": [
    "def f(x):\n",
    "    return pow(x,4.0)-1\n",
    "\n",
    "def LagrangePol(datos):\n",
    "    # la funcion LagrangePol crea un objeto que evalua un polinomio\n",
    "    # en un cierto valor de x\n",
    "    def L(k, x):  # pol $L_k(x)=\\prod\\limits_{i \\neq k}\\frac{x-x_i}{x_k-x_i}$\n",
    "        out = 1.0\n",
    "        for i, p in enumerate(datos):\n",
    "            if i != k:\n",
    "                out *= (x-p[0])/(datos[k][0]-p[0])\n",
    "        return out\n",
    "\n",
    "    def P(x):  # polinomio $P(x)=\\sum\\limits_{k}f(x_k)L_k(x)$\n",
    "        lag = 0.0\n",
    "        for k, p in enumerate(datos):\n",
    "            lag += p[1]*L(k, x)\n",
    "        return lag\n",
    "\n",
    "    return P\n",
    "\n",
    "xl = [-1,0,1,2]\n",
    "yl = []\n",
    "for xi in xl:\n",
    "    yl.append(f(xi))\n",
    "datos = []\n",
    "for xi, yi in zip(xl, yl):\n",
    "    datos.append([xi,yi])\n",
    "print('data to be used: ',datos)\n",
    "\n",
    "P = LagrangePol(datos)"
   ]
  },
  {
   "cell_type": "markdown",
   "metadata": {},
   "source": [
    "* Aquí realice una visualizacion de la función $f(x)$ y del polinomio  de interpolación resultante $P(x)$ en el intervalo $[-2,2]$. También grafique los puntos considerados para la interpolacion $[(x_0,y_0), (x_1,y_1), (x_2,y_2), (x_3,y_3)]$"
   ]
  },
  {
   "cell_type": "code",
   "execution_count": 11,
   "metadata": {},
   "outputs": [
    {
     "data": {
      "image/png": "[encoded data removed]",
      "text/plain": [
       "<Figure size 432x288 with 1 Axes>"
      ]
     },
     "metadata": {},
     "output_type": "display_data"
    }
   ],
   "source": [
    "import numpy as np\n",
    "import matplotlib.pyplot as plt\n",
    "%matplotlib inline\n",
    "x = np.linspace(-2,2,100)\n",
    "y = np.zeros(np.size(x))\n",
    "yex = np.zeros(np.size(x))\n",
    "for i in range(np.size(x)):\n",
    "    y[i]   = P(x[i])\n",
    "    yex[i] = f(x[i])\n",
    "    \n",
    "plt.plot(x,y,'--b',label=' Lagrange interpolator')\n",
    "plt.plot(x, yex, 'g', label = r'$f(x)$')\n",
    "for p in datos:\n",
    "    plt.scatter(p[0],p[1],c='r')\n",
    "plt.legend()\n",
    "plt.grid(True)\n",
    "plt.show()"
   ]
  },
  {
   "cell_type": "markdown",
   "metadata": {},
   "source": [
    "### Segundo  Punto\n",
    "**Utilice un polinomio de interpolacion para obtener una aproximacion de $\\sqrt(2)$, siguiendo las siguientes indicaciones:**\n",
    "\n",
    "* Considere la funcion $f(x) = 2^x$ y los siguientes nodos ${x_0=-2, x_1=-1, x_2=0, x_3=1, x_4=2}$\n",
    "* Con la informacion anterior construya un polinomio de interpolacion usando el método de Newton. "
   ]
  },
  {
   "cell_type": "code",
   "execution_count": 29,
   "metadata": {},
   "outputs": [
    {
     "name": "stdout",
     "output_type": "stream",
     "text": [
      "data to be used:  [[-2, 0.25], [-1, 0.5], [0, 1.0], [1, 2.0], [2, 4.0]]\n"
     ]
    },
    {
     "data": {
      "text/html": [
       "<div>\n",
       "<style scoped>\n",
       "    .dataframe tbody tr th:only-of-type {\n",
       "        vertical-align: middle;\n",
       "    }\n",
       "\n",
       "    .dataframe tbody tr th {\n",
       "        vertical-align: top;\n",
       "    }\n",
       "\n",
       "    .dataframe thead th {\n",
       "        text-align: right;\n",
       "    }\n",
       "</style>\n",
       "<table border=\"1\" class=\"dataframe\">\n",
       "  <thead>\n",
       "    <tr style=\"text-align: right;\">\n",
       "      <th></th>\n",
       "      <th>0</th>\n",
       "      <th>1</th>\n",
       "      <th>2</th>\n",
       "      <th>3</th>\n",
       "      <th>4</th>\n",
       "    </tr>\n",
       "  </thead>\n",
       "  <tbody>\n",
       "    <tr>\n",
       "      <th>0</th>\n",
       "      <td>0.25</td>\n",
       "      <td>0.00</td>\n",
       "      <td>0.000</td>\n",
       "      <td>0.000000</td>\n",
       "      <td>0.000000</td>\n",
       "    </tr>\n",
       "    <tr>\n",
       "      <th>1</th>\n",
       "      <td>0.50</td>\n",
       "      <td>0.25</td>\n",
       "      <td>0.000</td>\n",
       "      <td>0.000000</td>\n",
       "      <td>0.000000</td>\n",
       "    </tr>\n",
       "    <tr>\n",
       "      <th>2</th>\n",
       "      <td>1.00</td>\n",
       "      <td>0.50</td>\n",
       "      <td>0.125</td>\n",
       "      <td>0.000000</td>\n",
       "      <td>0.000000</td>\n",
       "    </tr>\n",
       "    <tr>\n",
       "      <th>3</th>\n",
       "      <td>2.00</td>\n",
       "      <td>1.00</td>\n",
       "      <td>0.250</td>\n",
       "      <td>0.041667</td>\n",
       "      <td>0.000000</td>\n",
       "    </tr>\n",
       "    <tr>\n",
       "      <th>4</th>\n",
       "      <td>4.00</td>\n",
       "      <td>2.00</td>\n",
       "      <td>0.500</td>\n",
       "      <td>0.083333</td>\n",
       "      <td>0.010417</td>\n",
       "    </tr>\n",
       "  </tbody>\n",
       "</table>\n",
       "</div>"
      ],
      "text/plain": [
       "      0     1      2         3         4\n",
       "0  0.25  0.00  0.000  0.000000  0.000000\n",
       "1  0.50  0.25  0.000  0.000000  0.000000\n",
       "2  1.00  0.50  0.125  0.000000  0.000000\n",
       "3  2.00  1.00  0.250  0.041667  0.000000\n",
       "4  4.00  2.00  0.500  0.083333  0.010417"
      ]
     },
     "execution_count": 29,
     "metadata": {},
     "output_type": "execute_result"
    }
   ],
   "source": [
    "def f(x):\n",
    "    return pow(2.0,x)\n",
    "\n",
    "def NewtonPol(dat):\n",
    "    # la funcion NewtonPol crea un objeto que evalua un polinomio en un cierto valor de x\n",
    "    n = len(dat)-1\n",
    "    F = [[0 for x in dat] for x in dat]  # crear tabla nula\n",
    "\n",
    "    for i, p in enumerate(dat):  # condiciones iniciales\n",
    "        F[i][0] = p[1]\n",
    "\n",
    "    for i in range(1, n+1):  # tabla de diferencias divididas\n",
    "        for j in range(1, i+1):\n",
    "            F[i][j] = (F[i][j-1]-F[i-1][j-1])/(dat[i][0]-dat[i-j][0])\n",
    "\n",
    "    def L(k, x):  # polinomio $L_k(x)=\\prod\\limits_{i \\leq k}(x-x_i)$\n",
    "        out = 1.0\n",
    "        for i, p in enumerate(dat):\n",
    "            if i <= k:\n",
    "                out *= (x-p[0])\n",
    "        return out\n",
    "\n",
    "    def P(x):  # $P(x)=f[x_0]+\\sum_{k=1}^{n}f[x_0,x_1,\\ldots,x_k]L_{k-1}(x)$\n",
    "        newt = 0.0\n",
    "        for i in range(1, n+1):\n",
    "            newt += F[i][i]*L(i-1, x)\n",
    "        return newt + F[0][0]\n",
    "\n",
    "    return F, P\n",
    "\n",
    "xl = [-2,-1,0,1,2]\n",
    "yl = []\n",
    "for xi in xl:\n",
    "    yl.append(f(xi))\n",
    "datos = []\n",
    "for xi, yi in zip(xl, yl):\n",
    "    datos.append([xi,yi])\n",
    "print('data to be used: ',datos)\n",
    "\n",
    "T, P = NewtonPol(datos)\n",
    "import pandas as pd\n",
    "df = pd.DataFrame(T)\n",
    "df"
   ]
  },
  {
   "cell_type": "markdown",
   "metadata": {},
   "source": [
    "* Con el polinomio obtenido previamente, piense como usarlo para obtener la aproximacion de $\\sqrt(2)$"
   ]
  },
  {
   "cell_type": "code",
   "execution_count": 30,
   "metadata": {},
   "outputs": [
    {
     "name": "stdout",
     "output_type": "stream",
     "text": [
      "aproximacion: 1.412109375\n",
      "valor real: 1.4142135623730951\n"
     ]
    }
   ],
   "source": [
    "import math as m\n",
    "print('aproximacion: {}'.format(P(0.5)))\n",
    "print('valor real: {}'.format(m.sqrt(2)))"
   ]
  },
  {
   "cell_type": "markdown",
   "metadata": {},
   "source": [
    "* Relice un gráfico de la funcion $f(x)$ y el polinomio obtenido por el método de Newton. Tambien dibuje un punto que represente el valor real de $\\sqrt(2)$ y otro punto que represente la aproximacion obtenida con el polinomio de interpolacion."
   ]
  },
  {
   "cell_type": "code",
   "execution_count": 31,
   "metadata": {},
   "outputs": [
    {
     "data": {
      "image/png": "[encoded data removed]",
      "text/plain": [
       "<Figure size 432x288 with 1 Axes>"
      ]
     },
     "metadata": {},
     "output_type": "display_data"
    }
   ],
   "source": [
    "import numpy as np\n",
    "import matplotlib.pyplot as plt\n",
    "%matplotlib inline\n",
    "x = np.linspace(-2,2,100)\n",
    "y = np.zeros(np.size(x))\n",
    "yex = np.zeros(np.size(x))\n",
    "for i in range(np.size(x)):\n",
    "    y[i]   = P(x[i])\n",
    "    yex[i] = f(x[i])\n",
    "    \n",
    "plt.plot(x,y,'--b',label=' Newton interpolator')\n",
    "plt.plot(x, yex, 'g', label = r'$f(x)$')\n",
    "for p in datos:\n",
    "    plt.scatter(p[0],p[1],c='r')\n",
    "plt.legend()\n",
    "plt.grid(True)\n",
    "plt.show()"
   ]
  },
  {
   "cell_type": "code",
   "execution_count": null,
   "metadata": {},
   "outputs": [],
   "source": []
  }
 ],
 "metadata": {
  "kernelspec": {
   "display_name": "Python 3",
   "language": "python",
   "name": "python3"
  },
  "language_info": {
   "codemirror_mode": {
    "name": "ipython",
    "version": 3
   },
   "file_extension": ".py",
   "mimetype": "text/x-python",
   "name": "python",
   "nbconvert_exporter": "python",
   "pygments_lexer": "ipython3",
   "version": "3.6.5"
  }
 },
 "nbformat": 4,
 "nbformat_minor": 2
}
